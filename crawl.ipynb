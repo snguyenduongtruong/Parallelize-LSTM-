{
 "cells": [
  {
   "cell_type": "code",
   "execution_count": 1,
   "metadata": {},
   "outputs": [
    {
     "name": "stdout",
     "output_type": "stream",
     "text": [
      "https://github.com/thangnch/MiAI_Stock_Predict/raw/master/stock_prices.json\n"
     ]
    }
   ],
   "source": [
    "from datetime import datetime, timedelta\n",
    "\n",
    "from datetime import date\n",
    "import json\n",
    "import time\n",
    "import sysconfig\n",
    "import pandas as pd\n",
    "import numpy as np\n",
    "import ssl\n",
    "\n",
    "to_date = \"2020-02-02\"\n",
    "from_date = \"2020-01-01\"\n",
    "stock_price_df = pd.DataFrame()\n",
    "stock_code = \"DIG\"\n",
    "import ssl\n",
    "\n",
    "ssl._create_default_https_context = ssl._create_unverified_context\n",
    "\n",
    "url = \"https://github.com/thangnch/MiAI_Stock_Predict/raw/master/stock_prices.json\"\n",
    "print(url)\n",
    "\n",
    "\n",
    "from urllib.request import Request, urlopen\n",
    "\n",
    "req = Request(url)\n",
    "x = urlopen(req).read()\n",
    "\n",
    "req.add_header(\"Authorization\", \"Basic %s\" % \"ABCZYXX\")\n",
    "\n",
    "json_x = json.loads(x)['data']\n",
    "all_stocks = []\n",
    "for stock in json_x:\n",
    "    all_stocks.append(stock)\n",
    "\n",
    "    # stock_price_df = stock_price_df.append(stock, ignore_index=True)\n",
    "stock_price_df = pd.DataFrame(all_stocks)\n",
    "stock_price_df.to_csv(\"stock_price.csv\", index=None)\n",
    "\n"
   ]
  }
 ],
 "metadata": {
  "kernelspec": {
   "display_name": "Python 3",
   "language": "python",
   "name": "python3"
  },
  "language_info": {
   "codemirror_mode": {
    "name": "ipython",
    "version": 3
   },
   "file_extension": ".py",
   "mimetype": "text/x-python",
   "name": "python",
   "nbconvert_exporter": "python",
   "pygments_lexer": "ipython3",
   "version": "3.12.3"
  }
 },
 "nbformat": 4,
 "nbformat_minor": 2
}
